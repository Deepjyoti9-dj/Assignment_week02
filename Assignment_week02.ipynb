{
 "cells": [
  {
   "cell_type": "code",
   "execution_count": 1,
   "id": "5c5777a5-534c-4005-ad46-be8647f0b7ac",
   "metadata": {},
   "outputs": [],
   "source": [
    "# # Q1. How do you comment code in Python? What are the different types of comments?\n",
    "\n",
    "# Answer to Q1.\n",
    "# We can comment in python by using hashtag i.e (#) or using tripple inverted comman i.e '''Any comment'''\n",
    "#     There are two types of comments in python:\n",
    "#     i) By using Hashtag in front of the comment.This is for single line only.\n",
    "#     ii) By using triple inverted commas.This is for multiple line."
   ]
  },
  {
   "cell_type": "code",
   "execution_count": 2,
   "id": "32f66c6a-4a2b-4477-8c32-3ad08b830f4e",
   "metadata": {},
   "outputs": [],
   "source": [
    "# Q2. What are variables in Python? How do you declare and assign values to variables?\n",
    "\n",
    "# Answer to Q2.\n",
    "# In python variables are the containor which stores data of different data types.\n",
    "#     First we have to declare a variable by name or character than we have to assign value to that variable using = sign.\n",
    "variable_name = 56\n"
   ]
  },
  {
   "cell_type": "code",
   "execution_count": 3,
   "id": "e148301e-2861-4bd3-862d-1f65ecc5832f",
   "metadata": {},
   "outputs": [
    {
     "data": {
      "text/plain": [
       "str"
      ]
     },
     "execution_count": 3,
     "metadata": {},
     "output_type": "execute_result"
    }
   ],
   "source": [
    "# Q3. How do you convert one data type to another in Python?\n",
    "\n",
    "# Answer to Q3.\n",
    "# We can convert one data type to another by typecasting.\n",
    "# Example\n",
    "a=45     #Here variable a is integer type\n",
    "b=str(a)   #Now it is converted forcefully to string type\n",
    "type(b)"
   ]
  },
  {
   "cell_type": "code",
   "execution_count": 4,
   "id": "f99d03a5-ebcc-454b-87a9-b21d8f8224ff",
   "metadata": {},
   "outputs": [],
   "source": [
    "# Q4. How do you write and execute a Python script from the command line?\n",
    "\n",
    "# Answer to Q4.\n",
    "# First we have to open Command Prompt then we have to type \"python first_script.py\" \n",
    "# then we write the required source code and then press Enter to execute the code."
   ]
  },
  {
   "cell_type": "code",
   "execution_count": 7,
   "id": "0efa27cb-c55c-4926-8375-d5970aafae99",
   "metadata": {},
   "outputs": [
    {
     "data": {
      "text/plain": [
       "[2, 3]"
      ]
     },
     "execution_count": 7,
     "metadata": {},
     "output_type": "execute_result"
    }
   ],
   "source": [
    "# Q5. Given a list my_list = [1, 2, 3, 4, 5], write the code to slice the list and obtain the sub-list [2, 3].\n",
    "\n",
    "# Answer to Q5.\n",
    "my_list = [1, 2, 3, 4, 5]\n",
    "my_list[1:3:1]"
   ]
  },
  {
   "cell_type": "code",
   "execution_count": 8,
   "id": "29564d0f-84c8-49c5-80fb-588dc59134ed",
   "metadata": {},
   "outputs": [
    {
     "data": {
      "text/plain": [
       "complex"
      ]
     },
     "execution_count": 8,
     "metadata": {},
     "output_type": "execute_result"
    }
   ],
   "source": [
    "# Q6. What is a complex number in mathematics, and how is it represented in Python?\n",
    "\n",
    "# Answer to Q6.\n",
    "# A complex number is a number which can be represented in the form of (a + ib), where \"a\" is real part\n",
    "# and \"ib\" is the imaginary part.\n",
    "# In python complex number is represented as (a + jb)\n",
    "type(7+9j)"
   ]
  },
  {
   "cell_type": "code",
   "execution_count": 10,
   "id": "a4ac7867-c16d-4e55-bc84-32aa3f9edcaa",
   "metadata": {},
   "outputs": [],
   "source": [
    "# Q7. What is the correct way to declare a variable named age and assign the value 25 to it?\n",
    "\n",
    "# Answer to Q7.\n",
    "age = 25 #First we have to write variable name and then assign a value by using = sign"
   ]
  },
  {
   "cell_type": "code",
   "execution_count": 11,
   "id": "c8931f1c-79ba-42fd-8bed-a222809d612b",
   "metadata": {},
   "outputs": [
    {
     "data": {
      "text/plain": [
       "float"
      ]
     },
     "execution_count": 11,
     "metadata": {},
     "output_type": "execute_result"
    }
   ],
   "source": [
    "# Q8. Declare a variable named price and assign the value 9.99 to it. What data type does this variable\n",
    "# belong to?\n",
    "\n",
    "# Answer to Q8.\n",
    "price = 9.99\n",
    "type(price)"
   ]
  },
  {
   "cell_type": "code",
   "execution_count": 13,
   "id": "78d85913-80b5-483e-b0b0-4c1f4fe824c4",
   "metadata": {},
   "outputs": [
    {
     "name": "stdout",
     "output_type": "stream",
     "text": [
      "Deepjyoti Debnath\n"
     ]
    }
   ],
   "source": [
    "# Q9. Create a variable named name and assign your full name to it as a string. How would you print the\n",
    "# value of this variable?\n",
    "\n",
    "# Answer to Q9.\n",
    "name = \"Deepjyoti Debnath\"\n",
    "print(name)"
   ]
  },
  {
   "cell_type": "code",
   "execution_count": 16,
   "id": "32d4c4c3-acc6-489e-a62d-4f9b10738cbc",
   "metadata": {},
   "outputs": [
    {
     "data": {
      "text/plain": [
       "'World'"
      ]
     },
     "execution_count": 16,
     "metadata": {},
     "output_type": "execute_result"
    }
   ],
   "source": [
    "# Q10. Given the string \"Hello, World!\", extract the substring \"World\".\n",
    "\n",
    "# Answer to Q10.\n",
    "s1 = \"Hellow World\"\n",
    "s1[7::]"
   ]
  },
  {
   "cell_type": "code",
   "execution_count": 1,
   "id": "1501ecca-452d-4108-8a0a-f282c2092ecb",
   "metadata": {},
   "outputs": [
    {
     "name": "stdout",
     "output_type": "stream",
     "text": [
      "You are a student\n"
     ]
    }
   ],
   "source": [
    "# Q11. Create a variable named \"is_student\" and assign it a boolean value indicating whether you are\n",
    "# currently a student or not.\n",
    "\n",
    "# Answer to Q11.\n",
    "is_student = True    #Here input is True\n",
    "if is_student==True :\n",
    "    print(\"You are a student\")\n",
    "elif is_student==False :\n",
    "    print(\"You are not a student\")"
   ]
  }
 ],
 "metadata": {
  "kernelspec": {
   "display_name": "Python 3 (ipykernel)",
   "language": "python",
   "name": "python3"
  },
  "language_info": {
   "codemirror_mode": {
    "name": "ipython",
    "version": 3
   },
   "file_extension": ".py",
   "mimetype": "text/x-python",
   "name": "python",
   "nbconvert_exporter": "python",
   "pygments_lexer": "ipython3",
   "version": "3.10.8"
  }
 },
 "nbformat": 4,
 "nbformat_minor": 5
}
